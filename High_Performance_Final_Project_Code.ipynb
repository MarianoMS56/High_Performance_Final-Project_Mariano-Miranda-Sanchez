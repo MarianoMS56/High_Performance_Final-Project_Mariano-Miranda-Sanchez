{
  "nbformat": 4,
  "nbformat_minor": 0,
  "metadata": {
    "colab": {
      "provenance": [],
      "gpuType": "T4"
    },
    "kernelspec": {
      "name": "python3",
      "display_name": "Python 3"
    },
    "language_info": {
      "name": "python"
    },
    "accelerator": "GPU"
  },
  "cells": [
    {
      "cell_type": "code",
      "source": [
        "!sudo apt-get install -y python3-mpi4py"
      ],
      "metadata": {
        "colab": {
          "base_uri": "https://localhost:8080/"
        },
        "id": "pSQOex7ABT4w",
        "outputId": "87e5a3eb-3c28-4cfe-c0e4-e551c0d4f220"
      },
      "execution_count": 1,
      "outputs": [
        {
          "output_type": "stream",
          "name": "stdout",
          "text": [
            "Reading package lists... Done\n",
            "Building dependency tree... Done\n",
            "Reading state information... Done\n",
            "Suggested packages:\n",
            "  python3-numpy\n",
            "The following NEW packages will be installed:\n",
            "  python3-mpi4py\n",
            "0 upgraded, 1 newly installed, 0 to remove and 45 not upgraded.\n",
            "Need to get 465 kB of archives.\n",
            "After this operation, 1,857 kB of additional disk space will be used.\n",
            "Get:1 http://archive.ubuntu.com/ubuntu jammy/universe amd64 python3-mpi4py amd64 3.1.3-1build2 [465 kB]\n",
            "Fetched 465 kB in 1s (678 kB/s)\n",
            "debconf: unable to initialize frontend: Dialog\n",
            "debconf: (No usable dialog-like program is installed, so the dialog based frontend cannot be used. at /usr/share/perl5/Debconf/FrontEnd/Dialog.pm line 78, <> line 1.)\n",
            "debconf: falling back to frontend: Readline\n",
            "debconf: unable to initialize frontend: Readline\n",
            "debconf: (This frontend requires a controlling tty.)\n",
            "debconf: falling back to frontend: Teletype\n",
            "dpkg-preconfigure: unable to re-open stdin: \n",
            "Selecting previously unselected package python3-mpi4py.\n",
            "(Reading database ... 121752 files and directories currently installed.)\n",
            "Preparing to unpack .../python3-mpi4py_3.1.3-1build2_amd64.deb ...\n",
            "Unpacking python3-mpi4py (3.1.3-1build2) ...\n",
            "Setting up python3-mpi4py (3.1.3-1build2) ...\n"
          ]
        }
      ]
    },
    {
      "cell_type": "code",
      "source": [
        "!sudo apt-get install -y python3-mpi4py"
      ],
      "metadata": {
        "colab": {
          "base_uri": "https://localhost:8080/"
        },
        "id": "SwopKh2aBXtc",
        "outputId": "1258110d-7346-45ad-8cc5-376156b31c36"
      },
      "execution_count": 2,
      "outputs": [
        {
          "output_type": "stream",
          "name": "stdout",
          "text": [
            "Reading package lists... Done\n",
            "Building dependency tree... Done\n",
            "Reading state information... Done\n",
            "python3-mpi4py is already the newest version (3.1.3-1build2).\n",
            "0 upgraded, 0 newly installed, 0 to remove and 45 not upgraded.\n"
          ]
        }
      ]
    },
    {
      "cell_type": "code",
      "source": [
        "!pip install line_profiler"
      ],
      "metadata": {
        "colab": {
          "base_uri": "https://localhost:8080/"
        },
        "id": "TtYBT8-h0zJm",
        "outputId": "5cb3961a-d294-4698-b152-7953841b552f"
      },
      "execution_count": 8,
      "outputs": [
        {
          "output_type": "stream",
          "name": "stdout",
          "text": [
            "Collecting line_profiler\n",
            "  Downloading line_profiler-4.1.2-cp310-cp310-manylinux_2_17_x86_64.manylinux2014_x86_64.whl (714 kB)\n",
            "\u001b[?25l     \u001b[90m━━━━━━━━━━━━━━━━━━━━━━━━━━━━━━━━━━━━━━━━\u001b[0m \u001b[32m0.0/714.8 kB\u001b[0m \u001b[31m?\u001b[0m eta \u001b[36m-:--:--\u001b[0m\r\u001b[2K     \u001b[91m━━━━━━━\u001b[0m\u001b[90m╺\u001b[0m\u001b[90m━━━━━━━━━━━━━━━━━━━━━━━━━━━━━━━━\u001b[0m \u001b[32m133.1/714.8 kB\u001b[0m \u001b[31m3.7 MB/s\u001b[0m eta \u001b[36m0:00:01\u001b[0m\r\u001b[2K     \u001b[91m━━━━━━━━━━━━━━━━━━━━━━━━━━━━━━━━━━\u001b[0m\u001b[90m╺\u001b[0m\u001b[90m━━━━━\u001b[0m \u001b[32m614.4/714.8 kB\u001b[0m \u001b[31m8.8 MB/s\u001b[0m eta \u001b[36m0:00:01\u001b[0m\r\u001b[2K     \u001b[90m━━━━━━━━━━━━━━━━━━━━━━━━━━━━━━━━━━━━━━━━\u001b[0m \u001b[32m714.8/714.8 kB\u001b[0m \u001b[31m7.9 MB/s\u001b[0m eta \u001b[36m0:00:00\u001b[0m\n",
            "\u001b[?25hInstalling collected packages: line_profiler\n",
            "Successfully installed line_profiler-4.1.2\n"
          ]
        }
      ]
    },
    {
      "cell_type": "markdown",
      "source": [
        "##Without any parallelization"
      ],
      "metadata": {
        "id": "xkabZxqUuoc9"
      }
    },
    {
      "cell_type": "markdown",
      "source": [],
      "metadata": {
        "id": "u-B0AcecyYgX"
      }
    },
    {
      "cell_type": "code",
      "source": [
        "import math\n",
        "import cProfile\n",
        "\n",
        "def calculate_pi(N):\n",
        "    dx = 1.0 / N\n",
        "    sum = 0.0\n",
        "    for i in range(N):\n",
        "        xi = i * dx\n",
        "        sum += dx * math.sqrt(1 - xi**2)\n",
        "    return 4 * sum\n",
        "\n",
        "N = 10000  # número de subdivisiones\n",
        "\n",
        "cProfile.run('calculate_pi(N)')"
      ],
      "metadata": {
        "colab": {
          "base_uri": "https://localhost:8080/"
        },
        "id": "qKok-Qn8B-a-",
        "outputId": "5561ef66-2412-48a2-b03b-dd68afe38e2e"
      },
      "execution_count": 45,
      "outputs": [
        {
          "output_type": "stream",
          "name": "stdout",
          "text": [
            "         10004 function calls in 0.007 seconds\n",
            "\n",
            "   Ordered by: standard name\n",
            "\n",
            "   ncalls  tottime  percall  cumtime  percall filename:lineno(function)\n",
            "        1    0.006    0.006    0.007    0.007 <ipython-input-45-5980700521e2>:4(calculate_pi)\n",
            "        1    0.000    0.000    0.007    0.007 <string>:1(<module>)\n",
            "        1    0.000    0.000    0.007    0.007 {built-in method builtins.exec}\n",
            "    10000    0.001    0.000    0.001    0.000 {built-in method math.sqrt}\n",
            "        1    0.000    0.000    0.000    0.000 {method 'disable' of '_lsprof.Profiler' objects}\n",
            "\n",
            "\n"
          ]
        }
      ]
    },
    {
      "cell_type": "markdown",
      "source": [
        "##Multiprocessing"
      ],
      "metadata": {
        "id": "LXpIAHIUpwyO"
      }
    },
    {
      "cell_type": "code",
      "source": [
        "import math\n",
        "from multiprocessing import Pool\n",
        "import cProfile\n",
        "\n",
        "def f(i, N):\n",
        "    dx = 1.0 / N\n",
        "    xi = i * dx\n",
        "    return dx * math.sqrt(1 - xi**2)\n",
        "\n",
        "def parallel_calculate_pi(N):\n",
        "    with Pool() as pool:\n",
        "        results = pool.starmap(f, [(i, N) for i in range(N)])\n",
        "    return 4 * sum(results)\n",
        "\n",
        "N = 10000\n",
        "\n",
        "def main():\n",
        "    print(\"Aproximation with multiprocessing:\", parallel_calculate_pi(N))\n",
        "\n",
        "cProfile.run('main()')"
      ],
      "metadata": {
        "colab": {
          "base_uri": "https://localhost:8080/"
        },
        "id": "kmpxqsF2CWdu",
        "outputId": "5ae276b2-5ed4-4c57-fa89-ed954bb51d86"
      },
      "execution_count": 42,
      "outputs": [
        {
          "output_type": "stream",
          "name": "stdout",
          "text": [
            "Aproximation de pi con multiprocessing: 3.1417914776113167\n",
            "         943 function calls in 0.055 seconds\n",
            "\n",
            "   Ordered by: standard name\n",
            "\n",
            "   ncalls  tottime  percall  cumtime  percall filename:lineno(function)\n",
            "       12    0.000    0.000    0.000    0.000 <frozen importlib._bootstrap>:404(parent)\n",
            "        1    0.000    0.000    0.054    0.054 <ipython-input-42-b12c0a06e735>:10(parallel_calculate_pi)\n",
            "        1    0.004    0.004    0.004    0.004 <ipython-input-42-b12c0a06e735>:12(<listcomp>)\n",
            "        1    0.000    0.000    0.055    0.055 <ipython-input-42-b12c0a06e735>:17(main)\n",
            "        1    0.000    0.000    0.055    0.055 <string>:1(<module>)\n",
            "        2    0.000    0.000    0.000    0.000 __init__.py:219(_acquireLock)\n",
            "        2    0.000    0.000    0.000    0.000 __init__.py:228(_releaseLock)\n",
            "        5    0.000    0.000    0.000    0.000 _weakrefset.py:39(_remove)\n",
            "        5    0.000    0.000    0.000    0.000 _weakrefset.py:86(add)\n",
            "        6    0.000    0.000    0.000    0.000 connection.py:117(__init__)\n",
            "        6    0.000    0.000    0.000    0.000 connection.py:130(__del__)\n",
            "        3    0.000    0.000    0.000    0.000 connection.py:134(_check_closed)\n",
            "        3    0.000    0.000    0.000    0.000 connection.py:142(_check_writable)\n",
            "        3    0.000    0.000    0.000    0.000 connection.py:181(send_bytes)\n",
            "        6    0.000    0.000    0.000    0.000 connection.py:360(_close)\n",
            "        3    0.000    0.000    0.000    0.000 connection.py:365(_send)\n",
            "        3    0.000    0.000    0.000    0.000 connection.py:390(_send_bytes)\n",
            "        3    0.000    0.000    0.000    0.000 connection.py:516(Pipe)\n",
            "        3    0.000    0.000    0.001    0.000 context.py:110(SimpleQueue)\n",
            "        1    0.000    0.000    0.024    0.024 context.py:115(Pool)\n",
            "        9    0.000    0.000    0.000    0.000 context.py:187(get_context)\n",
            "        6    0.000    0.000    0.000    0.000 context.py:197(get_start_method)\n",
            "        1    0.000    0.000    0.000    0.000 context.py:237(get_context)\n",
            "        2    0.000    0.000    0.019    0.010 context.py:278(_Popen)\n",
            "        6    0.000    0.000    0.001    0.000 context.py:65(Lock)\n",
            "       13    0.000    0.000    0.003    0.000 iostream.py:195(schedule)\n",
            "        4    0.000    0.000    0.000    0.000 iostream.py:308(_is_master_process)\n",
            "        4    0.000    0.000    0.000    0.000 iostream.py:321(_schedule_flush)\n",
            "        4    0.000    0.000    0.005    0.001 iostream.py:335(flush)\n",
            "        4    0.000    0.000    0.000    0.000 iostream.py:384(write)\n",
            "       13    0.000    0.000    0.000    0.000 iostream.py:91(_event_pipe)\n",
            "        1    0.000    0.000    0.000    0.000 pool.py:157(__init__)\n",
            "        2    0.000    0.000    0.000    0.000 pool.py:179(Process)\n",
            "        1    0.000    0.000    0.023    0.023 pool.py:183(__init__)\n",
            "        1    0.000    0.000    0.000    0.000 pool.py:266(__del__)\n",
            "        1    0.000    0.000    0.000    0.000 pool.py:279(_get_sentinels)\n",
            "        1    0.000    0.000    0.020    0.020 pool.py:305(_repopulate_pool)\n",
            "        1    0.000    0.000    0.020    0.020 pool.py:314(_repopulate_pool_static)\n",
            "        1    0.000    0.000    0.001    0.001 pool.py:345(_setup_queues)\n",
            "        2    0.000    0.000    0.000    0.000 pool.py:351(_check_running)\n",
            "        1    0.000    0.000    0.017    0.017 pool.py:369(starmap)\n",
            "        1    0.000    0.000    0.000    0.000 pool.py:471(_map_async)\n",
            "        1    0.000    0.000    0.009    0.009 pool.py:654(terminate)\n",
            "        1    0.000    0.000    0.000    0.000 pool.py:671(_help_stuff_finish)\n",
            "        1    0.000    0.000    0.009    0.009 pool.py:680(_terminate_pool)\n",
            "        1    0.000    0.000    0.000    0.000 pool.py:734(__enter__)\n",
            "        1    0.000    0.000    0.009    0.009 pool.py:738(__exit__)\n",
            "        1    0.000    0.000    0.000    0.000 pool.py:747(__init__)\n",
            "        1    0.000    0.000    0.000    0.000 pool.py:756(ready)\n",
            "        1    0.000    0.000    0.017    0.017 pool.py:764(wait)\n",
            "        1    0.000    0.000    0.017    0.017 pool.py:767(get)\n",
            "        1    0.000    0.000    0.000    0.000 pool.py:796(__init__)\n",
            "        2    0.000    0.000    0.019    0.009 popen_fork.py:15(__init__)\n",
            "        6    0.000    0.000    0.008    0.001 popen_fork.py:24(poll)\n",
            "        1    0.000    0.000    0.008    0.008 popen_fork.py:36(wait)\n",
            "        2    0.000    0.000    0.000    0.000 popen_fork.py:46(_send_signal)\n",
            "        2    0.000    0.000    0.000    0.000 popen_fork.py:56(terminate)\n",
            "        2    0.000    0.000    0.014    0.007 popen_fork.py:62(_launch)\n",
            "        2    0.000    0.000    0.019    0.010 process.py:110(start)\n",
            "        2    0.000    0.000    0.000    0.000 process.py:128(terminate)\n",
            "        1    0.000    0.000    0.008    0.008 process.py:142(join)\n",
            "        2    0.000    0.000    0.000    0.000 process.py:153(is_alive)\n",
            "        4    0.000    0.000    0.000    0.000 process.py:189(name)\n",
            "        2    0.000    0.000    0.000    0.000 process.py:193(name)\n",
            "        2    0.000    0.000    0.000    0.000 process.py:205(daemon)\n",
            "        2    0.000    0.000    0.000    0.000 process.py:224(exitcode)\n",
            "        1    0.000    0.000    0.000    0.000 process.py:234(ident)\n",
            "        6    0.000    0.000    0.000    0.000 process.py:37(current_process)\n",
            "        2    0.000    0.000    0.000    0.000 process.py:61(_cleanup)\n",
            "        2    0.000    0.000    0.000    0.000 process.py:80(__init__)\n",
            "        4    0.000    0.000    0.000    0.000 process.py:94(<genexpr>)\n",
            "       10    0.000    0.000    0.000    0.000 process.py:99(_check_closed)\n",
            "        3    0.000    0.000    0.001    0.000 queues.py:339(__init__)\n",
            "        3    0.000    0.000    0.000    0.000 queues.py:369(put)\n",
            "        6    0.000    0.000    0.000    0.000 random.py:506(choices)\n",
            "        6    0.000    0.000    0.000    0.000 random.py:519(<listcomp>)\n",
            "        3    0.000    0.000    0.000    0.000 reduction.py:38(__init__)\n",
            "        3    0.000    0.000    0.000    0.000 reduction.py:48(dumps)\n",
            "       13    0.003    0.000    0.003    0.000 socket.py:543(send)\n",
            "        6    0.000    0.000    0.000    0.000 synchronize.py:114(_make_name)\n",
            "        6    0.000    0.000    0.001    0.000 synchronize.py:161(__init__)\n",
            "        6    0.000    0.000    0.001    0.000 synchronize.py:50(__init__)\n",
            "        6    0.000    0.000    0.000    0.000 synchronize.py:90(_make_methods)\n",
            "        3    0.000    0.000    0.000    0.000 synchronize.py:94(__enter__)\n",
            "        3    0.000    0.000    0.000    0.000 synchronize.py:97(__exit__)\n",
            "        6    0.000    0.000    0.000    0.000 tempfile.py:281(rng)\n",
            "        6    0.000    0.000    0.000    0.000 tempfile.py:292(__next__)\n",
            "        3    0.000    0.000    0.000    0.000 threading.py:1028(_stop)\n",
            "        3    0.000    0.000    0.000    0.000 threading.py:1064(join)\n",
            "       22    0.000    0.000    0.000    0.000 threading.py:1102(_wait_for_tstate_lock)\n",
            "       19    0.000    0.000    0.000    0.000 threading.py:1169(is_alive)\n",
            "        6    0.000    0.000    0.000    0.000 threading.py:1183(daemon)\n",
            "        3    0.000    0.000    0.000    0.000 threading.py:1198(daemon)\n",
            "        3    0.000    0.000    0.000    0.000 threading.py:1301(_make_invoke_excepthook)\n",
            "        9    0.000    0.000    0.000    0.000 threading.py:1430(current_thread)\n",
            "        8    0.000    0.000    0.000    0.000 threading.py:236(__init__)\n",
            "        8    0.000    0.000    0.000    0.000 threading.py:264(__enter__)\n",
            "        8    0.000    0.000    0.000    0.000 threading.py:267(__exit__)\n",
            "        5    0.000    0.000    0.000    0.000 threading.py:273(_release_save)\n",
            "        5    0.000    0.000    0.000    0.000 threading.py:276(_acquire_restore)\n",
            "        5    0.000    0.000    0.000    0.000 threading.py:279(_is_owned)\n",
            "        5    0.000    0.000    0.019    0.004 threading.py:288(wait)\n",
            "        8    0.000    0.000    0.000    0.000 threading.py:545(__init__)\n",
            "       29    0.000    0.000    0.000    0.000 threading.py:553(is_set)\n",
            "        8    0.000    0.000    0.020    0.002 threading.py:589(wait)\n",
            "        3    0.000    0.000    0.000    0.000 threading.py:782(_newname)\n",
            "        3    0.000    0.000    0.001    0.000 threading.py:827(__init__)\n",
            "        3    0.000    0.000    0.002    0.001 threading.py:916(start)\n",
            "        6    0.000    0.000    0.000    0.000 util.py:171(register_after_fork)\n",
            "        3    0.000    0.000    0.000    0.000 util.py:186(__init__)\n",
            "        3    0.000    0.000    0.009    0.003 util.py:205(__call__)\n",
            "        2    0.000    0.000    0.005    0.002 util.py:433(_flush_std_streams)\n",
            "        3    0.000    0.000    0.000    0.000 util.py:44(sub_debug)\n",
            "        2    0.000    0.000    0.000    0.000 util.py:461(close_fds)\n",
            "       18    0.000    0.000    0.000    0.000 util.py:48(debug)\n",
            "        6    0.000    0.000    0.000    0.000 weakref.py:106(remove)\n",
            "        6    0.000    0.000    0.000    0.000 weakref.py:165(__setitem__)\n",
            "        6    0.000    0.000    0.000    0.000 weakref.py:348(__new__)\n",
            "        6    0.000    0.000    0.000    0.000 weakref.py:353(__init__)\n",
            "        6    0.000    0.000    0.000    0.000 {built-in method __new__ of type object at 0x581ebe21d9a0}\n",
            "        4    0.000    0.000    0.000    0.000 {built-in method _imp.lock_held}\n",
            "        3    0.000    0.000    0.000    0.000 {built-in method _struct.pack}\n",
            "       13    0.000    0.000    0.000    0.000 {built-in method _thread.allocate_lock}\n",
            "        9    0.000    0.000    0.000    0.000 {built-in method _thread.get_ident}\n",
            "        3    0.000    0.000    0.000    0.000 {built-in method _thread.start_new_thread}\n",
            "        6    0.000    0.000    0.000    0.000 {built-in method _weakref._remove_dead_weakref}\n",
            "        1    0.000    0.000    0.000    0.000 {built-in method builtins.divmod}\n",
            "        1    0.000    0.000    0.055    0.055 {built-in method builtins.exec}\n",
            "        6    0.000    0.000    0.000    0.000 {built-in method builtins.getattr}\n",
            "        3    0.000    0.000    0.000    0.000 {built-in method builtins.hasattr}\n",
            "        6    0.000    0.000    0.000    0.000 {built-in method builtins.id}\n",
            "        7    0.000    0.000    0.000    0.000 {built-in method builtins.isinstance}\n",
            "       22    0.000    0.000    0.000    0.000 {built-in method builtins.len}\n",
            "       18    0.000    0.000    0.000    0.000 {built-in method builtins.next}\n",
            "        1    0.000    0.000    0.000    0.000 {built-in method builtins.print}\n",
            "        1    0.000    0.000    0.000    0.000 {built-in method builtins.sum}\n",
            "       48    0.000    0.000    0.000    0.000 {built-in method math.floor}\n",
            "       14    0.001    0.000    0.001    0.000 {built-in method posix.close}\n",
            "        1    0.000    0.000    0.000    0.000 {built-in method posix.cpu_count}\n",
            "        2    0.012    0.006    0.013    0.006 {built-in method posix.fork}\n",
            "       23    0.000    0.000    0.000    0.000 {built-in method posix.getpid}\n",
            "        2    0.000    0.000    0.000    0.000 {built-in method posix.kill}\n",
            "        7    0.000    0.000    0.000    0.000 {built-in method posix.pipe}\n",
            "        6    0.008    0.001    0.008    0.001 {built-in method posix.waitpid}\n",
            "        2    0.000    0.000    0.000    0.000 {built-in method posix.waitstatus_to_exitcode}\n",
            "        3    0.000    0.000    0.000    0.000 {built-in method posix.write}\n",
            "        3    0.000    0.000    0.000    0.000 {method '__enter__' of '_multiprocessing.SemLock' objects}\n",
            "        8    0.000    0.000    0.000    0.000 {method '__enter__' of '_thread.lock' objects}\n",
            "        3    0.000    0.000    0.000    0.000 {method '__exit__' of '_multiprocessing.SemLock' objects}\n",
            "        3    0.000    0.000    0.000    0.000 {method '__exit__' of '_thread.RLock' objects}\n",
            "        8    0.000    0.000    0.000    0.000 {method '__exit__' of '_thread.lock' objects}\n",
            "        1    0.000    0.000    0.000    0.000 {method 'acquire' of '_multiprocessing.SemLock' objects}\n",
            "        2    0.000    0.000    0.000    0.000 {method 'acquire' of '_thread.RLock' objects}\n",
            "       40    0.019    0.000    0.019    0.000 {method 'acquire' of '_thread.lock' objects}\n",
            "        7    0.000    0.000    0.000    0.000 {method 'add' of 'set' objects}\n",
            "       18    0.000    0.000    0.000    0.000 {method 'append' of 'collections.deque' objects}\n",
            "        2    0.000    0.000    0.000    0.000 {method 'append' of 'list' objects}\n",
            "        5    0.000    0.000    0.000    0.000 {method 'copy' of 'dict' objects}\n",
            "        1    0.000    0.000    0.000    0.000 {method 'disable' of '_lsprof.Profiler' objects}\n",
            "        7    0.000    0.000    0.000    0.000 {method 'discard' of 'set' objects}\n",
            "        3    0.000    0.000    0.000    0.000 {method 'dump' of '_pickle.Pickler' objects}\n",
            "        2    0.000    0.000    0.000    0.000 {method 'get' of 'dict' objects}\n",
            "        3    0.000    0.000    0.000    0.000 {method 'getbuffer' of '_io.BytesIO' objects}\n",
            "        8    0.000    0.000    0.000    0.000 {method 'join' of 'str' objects}\n",
            "        3    0.000    0.000    0.000    0.000 {method 'locked' of '_thread.lock' objects}\n",
            "        1    0.000    0.000    0.000    0.000 {method 'put' of '_queue.SimpleQueue' objects}\n",
            "       48    0.000    0.000    0.000    0.000 {method 'random' of '_random.Random' objects}\n",
            "        2    0.000    0.000    0.000    0.000 {method 'release' of '_thread.RLock' objects}\n",
            "        8    0.000    0.000    0.000    0.000 {method 'release' of '_thread.lock' objects}\n",
            "        2    0.000    0.000    0.000    0.000 {method 'replace' of 'str' objects}\n",
            "       12    0.000    0.000    0.000    0.000 {method 'rpartition' of 'str' objects}\n",
            "        3    0.000    0.000    0.000    0.000 {method 'update' of 'dict' objects}\n",
            "\n",
            "\n"
          ]
        }
      ]
    },
    {
      "cell_type": "markdown",
      "source": [
        "##Mpi4py"
      ],
      "metadata": {
        "id": "-AnHreqkuufg"
      }
    },
    {
      "cell_type": "code",
      "source": [
        "from mpi4py import MPI\n",
        "import math\n",
        "import cProfile\n",
        "\n",
        "def calculate_part_of_pi(N, rank, size):\n",
        "    dx = 1.0 / N\n",
        "    local_sum = sum(dx * math.sqrt(1 - (i * dx) ** 2) for i in range(rank, N, size))\n",
        "    return local_sum\n",
        "\n",
        "def distributed_calculate_pi(N):\n",
        "    comm = MPI.COMM_WORLD\n",
        "    rank = comm.Get_rank()\n",
        "    size = comm.Get_size()\n",
        "\n",
        "    profiler = cProfile.Profile()\n",
        "    profiler.enable()\n",
        "\n",
        "    local_sum = calculate_part_of_pi(N, rank, size)\n",
        "    pi_approx = 4 * comm.reduce(local_sum, op=MPI.SUM, root=0)\n",
        "\n",
        "    profiler.disable()\n",
        "    profiler.print_stats(sort='time')\n",
        "\n",
        "    if rank == 0:\n",
        "        print(f\"Aproximación with mpi4py: {pi_approx}\")\n",
        "\n",
        "if __name__ == \"__main__\":\n",
        "    N = 10000\n",
        "    if MPI.COMM_WORLD.Get_rank() == 0:\n",
        "        print(\"Starting distributed PI calculation with profiling\")\n",
        "    distributed_calculate_pi(N)"
      ],
      "metadata": {
        "colab": {
          "base_uri": "https://localhost:8080/"
        },
        "id": "hyqJI4ejKAaN",
        "outputId": "73f6929c-85e2-4f0f-b31e-11f7d4f4ae67"
      },
      "execution_count": 46,
      "outputs": [
        {
          "output_type": "stream",
          "name": "stdout",
          "text": [
            "Starting distributed PI calculation with profiling\n",
            "         20005 function calls in 0.011 seconds\n",
            "\n",
            "   Ordered by: internal time\n",
            "\n",
            "   ncalls  tottime  percall  cumtime  percall filename:lineno(function)\n",
            "    10001    0.008    0.000    0.009    0.000 <ipython-input-46-cc25e2be2c4d>:7(<genexpr>)\n",
            "        1    0.001    0.001    0.011    0.011 {built-in method builtins.sum}\n",
            "    10000    0.001    0.000    0.001    0.000 {built-in method math.sqrt}\n",
            "        1    0.000    0.000    0.000    0.000 {method 'reduce' of 'mpi4py.MPI.Comm' objects}\n",
            "        1    0.000    0.000    0.011    0.011 <ipython-input-46-cc25e2be2c4d>:5(calculate_part_of_pi)\n",
            "        1    0.000    0.000    0.000    0.000 {method 'disable' of '_lsprof.Profiler' objects}\n",
            "\n",
            "\n",
            "Aproximación with mpi4py: 3.1417914776113167\n"
          ]
        }
      ]
    }
  ]
}